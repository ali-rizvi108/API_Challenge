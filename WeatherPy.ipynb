{
 "cells": [
  {
   "cell_type": "markdown",
   "metadata": {},
   "source": [
    "# WeatherPy\n",
    "----\n",
    "\n",
    "#### Note\n",
    "* Instructions have been included for each segment. You do not have to follow them exactly, but they are included to help you think through the steps."
   ]
  },
  {
   "cell_type": "code",
   "execution_count": null,
   "metadata": {},
   "outputs": [],
   "source": [
    "#pip install citipy"
   ]
  },
  {
   "cell_type": "code",
   "execution_count": 1,
   "metadata": {
    "scrolled": true
   },
   "outputs": [
    {
     "name": "stdout",
     "output_type": "stream",
     "text": [
      "c25c1fa606e9a7409b8debce862b211a\n"
     ]
    }
   ],
   "source": [
    "# Dependencies and Setup\n",
    "import matplotlib.pyplot as plt\n",
    "import pandas as pd\n",
    "import numpy as np\n",
    "import requests\n",
    "import time\n",
    "from scipy.stats import linregress\n",
    "\n",
    "# Import API key\n",
    "from api_keys import weather_api_key\n",
    "print(weather_api_key)\n",
    "\n",
    "# Incorporated citipy to determine city based on latitude and longitude\n",
    "from citipy import citipy\n",
    "\n",
    "# Output File (CSV)\n",
    "output_data_file = \"output_data/cities.csv\"\n",
    "\n",
    "# Range of latitudes and longitudes\n",
    "lat_range = (-90, 90)\n",
    "lng_range = (-180, 180)"
   ]
  },
  {
   "cell_type": "code",
   "execution_count": 59,
   "metadata": {},
   "outputs": [],
   "source": [
    "output_data_file = \"output_data/cities.csv\""
   ]
  },
  {
   "cell_type": "markdown",
   "metadata": {},
   "source": [
    "## Generate Cities List"
   ]
  },
  {
   "cell_type": "code",
   "execution_count": 2,
   "metadata": {},
   "outputs": [
    {
     "data": {
      "text/plain": [
       "613"
      ]
     },
     "execution_count": 2,
     "metadata": {},
     "output_type": "execute_result"
    }
   ],
   "source": [
    "# List for holding lat_lngs and cities\n",
    "lat_lngs = []\n",
    "cities = []\n",
    "\n",
    "# Create a set of random lat and lng combinations\n",
    "lats = np.random.uniform(low=-90.000, high=90.000, size=1500)\n",
    "lngs = np.random.uniform(low=-180.000, high=180.000, size=1500)\n",
    "lat_lngs = zip(lats, lngs)\n",
    "\n",
    "# Identify nearest city for each lat, lng combination\n",
    "for lat_lng in lat_lngs:\n",
    "    city = citipy.nearest_city(lat_lng[0], lat_lng[1]).city_name\n",
    "    \n",
    "    # If the city is unique, then add it to a our cities list\n",
    "    if city not in cities:\n",
    "        cities.append(city)\n",
    "\n",
    "# Print the city count to confirm sufficient count\n",
    "len(cities)"
   ]
  },
  {
   "cell_type": "code",
   "execution_count": null,
   "metadata": {},
   "outputs": [],
   "source": [
    "url = \"http://api.openweathermap.org/data/2.5/weather?units=Imperial&APPID=\" + weather_api_key\n",
    "url"
   ]
  },
  {
   "cell_type": "markdown",
   "metadata": {},
   "source": [
    "### Perform API Calls\n",
    "* Perform a weather check on each city using a series of successive API calls.\n",
    "* Include a print log of each city as it'sbeing processed (with the city number and city name).\n"
   ]
  },
  {
   "cell_type": "code",
   "execution_count": 3,
   "metadata": {},
   "outputs": [
    {
     "name": "stdout",
     "output_type": "stream",
     "text": [
      "Processing Record 1 of Set 1 | kutum\n",
      "Processing Record 2 of Set 1 | labutta\n",
      "city_not_found\n",
      "Processing Record 3 of Set 1 | alyangula\n",
      "Processing Record 4 of Set 1 | fortuna\n",
      "Processing Record 5 of Set 1 | ushuaia\n",
      "Processing Record 6 of Set 1 | manuk mangkaw\n",
      "Processing Record 7 of Set 1 | airai\n",
      "Processing Record 8 of Set 1 | andenes\n",
      "Processing Record 9 of Set 1 | east london\n",
      "Processing Record 10 of Set 1 | busselton\n",
      "Processing Record 11 of Set 1 | ilulissat\n",
      "Processing Record 12 of Set 1 | rikitea\n",
      "Processing Record 13 of Set 1 | barrow\n",
      "Processing Record 14 of Set 1 | hamilton\n",
      "Processing Record 15 of Set 1 | albany\n",
      "Processing Record 16 of Set 1 | nsanje\n",
      "Processing Record 17 of Set 1 | thompson\n",
      "Processing Record 18 of Set 1 | qaanaaq\n",
      "Processing Record 19 of Set 1 | port blair\n",
      "Processing Record 20 of Set 1 | severo-kurilsk\n",
      "Processing Record 21 of Set 1 | khatanga\n",
      "Processing Record 22 of Set 1 | luderitz\n",
      "Processing Record 23 of Set 1 | bargal\n",
      "city_not_found\n",
      "Processing Record 24 of Set 1 | nikolskoye\n",
      "Processing Record 25 of Set 1 | nizhneyansk\n",
      "city_not_found\n",
      "Processing Record 26 of Set 1 | attawapiskat\n",
      "city_not_found\n",
      "Processing Record 27 of Set 1 | kontagora\n",
      "Processing Record 28 of Set 1 | kabalo\n",
      "Processing Record 29 of Set 1 | pevek\n",
      "Processing Record 30 of Set 1 | illoqqortoormiut\n",
      "city_not_found\n",
      "Processing Record 31 of Set 1 | umzimvubu\n",
      "city_not_found\n",
      "Processing Record 32 of Set 1 | tiksi\n",
      "Processing Record 33 of Set 1 | atuona\n",
      "Processing Record 34 of Set 1 | cidreira\n",
      "Processing Record 35 of Set 1 | upernavik\n",
      "Processing Record 36 of Set 1 | taksimo\n",
      "Processing Record 37 of Set 1 | cherskiy\n",
      "Processing Record 38 of Set 1 | dingle\n",
      "Processing Record 39 of Set 1 | sistranda\n",
      "Processing Record 40 of Set 1 | vaini\n",
      "Processing Record 41 of Set 1 | yanchukan\n",
      "city_not_found\n",
      "Processing Record 42 of Set 1 | bonavista\n",
      "Processing Record 43 of Set 1 | kaeo\n",
      "Processing Record 44 of Set 1 | kampong thum\n",
      "Processing Record 45 of Set 1 | punta arenas\n",
      "Processing Record 46 of Set 1 | katsuura\n",
      "Processing Record 47 of Set 1 | hermanus\n",
      "Processing Record 48 of Set 1 | tsihombe\n",
      "city_not_found\n",
      "Processing Record 49 of Set 1 | grand centre\n",
      "city_not_found\n",
      "Processing Record 50 of Set 1 | viedma\n",
      "Processing Record 0 of Set 2 | port elizabeth\n",
      "Processing Record 1 of Set 2 | saryshagan\n",
      "city_not_found\n",
      "Processing Record 2 of Set 2 | hithadhoo\n",
      "Processing Record 3 of Set 2 | gorontalo\n",
      "Processing Record 4 of Set 2 | lorengau\n",
      "Processing Record 5 of Set 2 | yangambi\n",
      "Processing Record 6 of Set 2 | atasu\n",
      "Processing Record 7 of Set 2 | poum\n",
      "Processing Record 8 of Set 2 | kodiak\n",
      "Processing Record 9 of Set 2 | charyshskoye\n",
      "Processing Record 10 of Set 2 | mataura\n",
      "Processing Record 11 of Set 2 | taolanaro\n",
      "city_not_found\n",
      "Processing Record 12 of Set 2 | aasiaat\n",
      "Processing Record 13 of Set 2 | port alfred\n",
      "Processing Record 14 of Set 2 | bethel\n",
      "Processing Record 15 of Set 2 | barcelos\n",
      "Processing Record 16 of Set 2 | narsaq\n",
      "Processing Record 17 of Set 2 | bredasdorp\n",
      "Processing Record 18 of Set 2 | kulhudhuffushi\n",
      "Processing Record 19 of Set 2 | hobart\n",
      "Processing Record 20 of Set 2 | bluff\n",
      "Processing Record 21 of Set 2 | samusu\n",
      "city_not_found\n",
      "Processing Record 22 of Set 2 | zatoka\n",
      "Processing Record 23 of Set 2 | vaitupu\n",
      "city_not_found\n",
      "Processing Record 24 of Set 2 | talaya\n",
      "Processing Record 25 of Set 2 | tasiilaq\n",
      "Processing Record 26 of Set 2 | omboue\n",
      "Processing Record 27 of Set 2 | polistena\n",
      "Processing Record 28 of Set 2 | dongsheng\n",
      "Processing Record 29 of Set 2 | shingu\n",
      "Processing Record 30 of Set 2 | iqaluit\n",
      "Processing Record 31 of Set 2 | saldanha\n",
      "Processing Record 32 of Set 2 | utiroa\n",
      "city_not_found\n",
      "Processing Record 33 of Set 2 | hilo\n",
      "Processing Record 34 of Set 2 | longyearbyen\n",
      "Processing Record 35 of Set 2 | ostrovnoy\n",
      "Processing Record 36 of Set 2 | sitka\n",
      "Processing Record 37 of Set 2 | porto novo\n",
      "Processing Record 38 of Set 2 | sao joao da barra\n",
      "Processing Record 39 of Set 2 | miranorte\n",
      "city_not_found\n",
      "Processing Record 40 of Set 2 | acapulco\n",
      "Processing Record 41 of Set 2 | priargunsk\n",
      "Processing Record 42 of Set 2 | saskylakh\n",
      "Processing Record 43 of Set 2 | saint-philippe\n",
      "Processing Record 44 of Set 2 | kruisfontein\n",
      "Processing Record 45 of Set 2 | atar\n",
      "Processing Record 46 of Set 2 | victoria\n",
      "Processing Record 47 of Set 2 | hay river\n",
      "Processing Record 48 of Set 2 | kawana waters\n",
      "city_not_found\n",
      "Processing Record 49 of Set 2 | formosa\n",
      "Processing Record 0 of Set 3 | santa eulalia del rio\n",
      "city_not_found\n",
      "Processing Record 1 of Set 3 | sao filipe\n",
      "Processing Record 2 of Set 3 | billings\n",
      "Processing Record 3 of Set 3 | cape town\n",
      "Processing Record 4 of Set 3 | lukovetskiy\n",
      "Processing Record 5 of Set 3 | gewane\n",
      "Processing Record 6 of Set 3 | half moon bay\n",
      "Processing Record 7 of Set 3 | udachnyy\n",
      "Processing Record 8 of Set 3 | tasbuget\n",
      "city_not_found\n",
      "Processing Record 9 of Set 3 | lindi\n",
      "Processing Record 10 of Set 3 | sarh\n",
      "Processing Record 11 of Set 3 | ahuimanu\n",
      "Processing Record 12 of Set 3 | kerteh\n",
      "city_not_found\n",
      "Processing Record 13 of Set 3 | castro\n",
      "Processing Record 14 of Set 3 | beloha\n",
      "Processing Record 15 of Set 3 | pisco\n",
      "Processing Record 16 of Set 3 | sasayama\n",
      "Processing Record 17 of Set 3 | sorvag\n",
      "city_not_found\n",
      "Processing Record 18 of Set 3 | umm kaddadah\n",
      "Processing Record 19 of Set 3 | champerico\n",
      "Processing Record 20 of Set 3 | necochea\n",
      "Processing Record 21 of Set 3 | ponca city\n",
      "Processing Record 22 of Set 3 | butaritari\n",
      "Processing Record 23 of Set 3 | mahebourg\n",
      "Processing Record 24 of Set 3 | vastervik\n",
      "city_not_found\n",
      "Processing Record 25 of Set 3 | maragogi\n",
      "Processing Record 26 of Set 3 | vanimo\n",
      "Processing Record 27 of Set 3 | lavrentiya\n",
      "Processing Record 28 of Set 3 | puerto ayora\n",
      "Processing Record 29 of Set 3 | sandnessjoen\n",
      "Processing Record 30 of Set 3 | havre-saint-pierre\n",
      "Processing Record 31 of Set 3 | chuy\n",
      "Processing Record 32 of Set 3 | saint george\n",
      "Processing Record 33 of Set 3 | denpasar\n",
      "Processing Record 34 of Set 3 | georgetown\n",
      "Processing Record 35 of Set 3 | new norfolk\n",
      "Processing Record 36 of Set 3 | berlevag\n",
      "Processing Record 37 of Set 3 | klaksvik\n",
      "Processing Record 38 of Set 3 | constitucion\n",
      "Processing Record 39 of Set 3 | belushya guba\n",
      "city_not_found\n",
      "Processing Record 40 of Set 3 | kedougou\n",
      "Processing Record 41 of Set 3 | provideniya\n",
      "Processing Record 42 of Set 3 | yabrud\n",
      "Processing Record 43 of Set 3 | carnarvon\n",
      "Processing Record 44 of Set 3 | kapaa\n",
      "Processing Record 45 of Set 3 | moose factory\n",
      "Processing Record 46 of Set 3 | mount isa\n",
      "Processing Record 47 of Set 3 | tilichiki\n",
      "Processing Record 48 of Set 3 | artyk\n",
      "city_not_found\n",
      "Processing Record 49 of Set 3 | bay roberts\n",
      "Processing Record 0 of Set 4 | bara\n",
      "Processing Record 1 of Set 4 | avarua\n",
      "Processing Record 2 of Set 4 | fallon\n",
      "Processing Record 3 of Set 4 | hobyo\n",
      "Processing Record 4 of Set 4 | mamallapuram\n",
      "Processing Record 5 of Set 4 | maceio\n",
      "Processing Record 6 of Set 4 | husavik\n",
      "Processing Record 7 of Set 4 | sinor\n",
      "Processing Record 8 of Set 4 | luanda\n",
      "Processing Record 9 of Set 4 | banda aceh\n",
      "Processing Record 10 of Set 4 | cabedelo\n",
      "Processing Record 11 of Set 4 | raudeberg\n",
      "Processing Record 12 of Set 4 | codrington\n",
      "Processing Record 13 of Set 4 | arraial do cabo\n",
      "Processing Record 14 of Set 4 | kavaratti\n",
      "Processing Record 15 of Set 4 | bilibino\n",
      "Processing Record 16 of Set 4 | jinchang\n",
      "Processing Record 17 of Set 4 | mazagao\n",
      "Processing Record 18 of Set 4 | beringovskiy\n",
      "Processing Record 19 of Set 4 | yulara\n",
      "Processing Record 20 of Set 4 | dikson\n",
      "Processing Record 21 of Set 4 | torrington\n",
      "Processing Record 22 of Set 4 | isangel\n",
      "Processing Record 23 of Set 4 | alofi\n",
      "Processing Record 24 of Set 4 | luau\n",
      "Processing Record 25 of Set 4 | solnechnyy\n",
      "Processing Record 26 of Set 4 | pakhtakoron\n",
      "Processing Record 27 of Set 4 | tulum\n",
      "Processing Record 28 of Set 4 | strelice\n",
      "Processing Record 29 of Set 4 | margate\n",
      "Processing Record 30 of Set 4 | evensk\n",
      "Processing Record 31 of Set 4 | victoria point\n",
      "Processing Record 32 of Set 4 | zyryanka\n",
      "Processing Record 33 of Set 4 | ostersund\n",
      "Processing Record 34 of Set 4 | warqla\n",
      "city_not_found\n",
      "Processing Record 35 of Set 4 | talnakh\n",
      "Processing Record 36 of Set 4 | atambua\n",
      "Processing Record 37 of Set 4 | dhidhdhoo\n",
      "Processing Record 38 of Set 4 | esperance\n",
      "Processing Record 39 of Set 4 | cabo san lucas\n",
      "Processing Record 40 of Set 4 | calama\n",
      "Processing Record 41 of Set 4 | tombouctou\n"
     ]
    },
    {
     "name": "stdout",
     "output_type": "stream",
     "text": [
      "Processing Record 42 of Set 4 | sentyabrskiy\n",
      "city_not_found\n",
      "Processing Record 43 of Set 4 | batticaloa\n",
      "Processing Record 44 of Set 4 | hiliseu-horia\n",
      "Processing Record 45 of Set 4 | guerrero negro\n",
      "Processing Record 46 of Set 4 | kargil\n",
      "Processing Record 47 of Set 4 | buritama\n",
      "Processing Record 48 of Set 4 | ust-tsilma\n",
      "Processing Record 49 of Set 4 | santa maria\n",
      "Processing Record 0 of Set 5 | tuatapere\n",
      "Processing Record 1 of Set 5 | puerto madryn\n",
      "Processing Record 2 of Set 5 | ribeira grande\n",
      "Processing Record 3 of Set 5 | erie\n",
      "Processing Record 4 of Set 5 | pontianak\n",
      "Processing Record 5 of Set 5 | lazaro cardenas\n",
      "Processing Record 6 of Set 5 | cagayan de tawi-tawi\n",
      "city_not_found\n",
      "Processing Record 7 of Set 5 | amderma\n",
      "city_not_found\n",
      "Processing Record 8 of Set 5 | mjolby\n",
      "Processing Record 9 of Set 5 | orotukan\n",
      "Processing Record 10 of Set 5 | mount gambier\n",
      "Processing Record 11 of Set 5 | jamestown\n",
      "Processing Record 12 of Set 5 | leningradskiy\n",
      "Processing Record 13 of Set 5 | burnie\n",
      "Processing Record 14 of Set 5 | ocos\n",
      "Processing Record 15 of Set 5 | amapa\n",
      "Processing Record 16 of Set 5 | bathsheba\n",
      "Processing Record 17 of Set 5 | parrita\n",
      "Processing Record 18 of Set 5 | taiping\n",
      "Processing Record 19 of Set 5 | kamogata\n",
      "Processing Record 20 of Set 5 | coari\n",
      "Processing Record 21 of Set 5 | zemio\n",
      "Processing Record 22 of Set 5 | russellville\n",
      "Processing Record 23 of Set 5 | barentsburg\n",
      "city_not_found\n",
      "Processing Record 24 of Set 5 | qeshm\n",
      "Processing Record 25 of Set 5 | beira\n",
      "Processing Record 26 of Set 5 | ust-nera\n",
      "Processing Record 27 of Set 5 | balkhash\n",
      "Processing Record 28 of Set 5 | vestmanna\n",
      "Processing Record 29 of Set 5 | yaan\n",
      "Processing Record 30 of Set 5 | bakuriani\n",
      "Processing Record 31 of Set 5 | micheweni\n",
      "Processing Record 32 of Set 5 | chokurdakh\n",
      "Processing Record 33 of Set 5 | la ronge\n",
      "Processing Record 34 of Set 5 | riyadh\n",
      "Processing Record 35 of Set 5 | chapais\n",
      "Processing Record 36 of Set 5 | bien hoa\n",
      "Processing Record 37 of Set 5 | manoharpur\n",
      "Processing Record 38 of Set 5 | salinas\n",
      "Processing Record 39 of Set 5 | norman wells\n",
      "Processing Record 40 of Set 5 | nadym\n",
      "Processing Record 41 of Set 5 | milingimbi\n",
      "city_not_found\n",
      "Processing Record 42 of Set 5 | torbay\n",
      "Processing Record 43 of Set 5 | djambala\n",
      "Processing Record 44 of Set 5 | tessalit\n",
      "Processing Record 45 of Set 5 | henties bay\n",
      "Processing Record 46 of Set 5 | tautira\n",
      "Processing Record 47 of Set 5 | mahibadhoo\n",
      "Processing Record 48 of Set 5 | zomba\n",
      "Processing Record 49 of Set 5 | gao\n",
      "Processing Record 0 of Set 6 | sambava\n",
      "Processing Record 1 of Set 6 | tumannyy\n",
      "city_not_found\n",
      "Processing Record 2 of Set 6 | san luis\n",
      "Processing Record 3 of Set 6 | logrono\n",
      "Processing Record 4 of Set 6 | nouadhibou\n",
      "Processing Record 5 of Set 6 | aflu\n",
      "city_not_found\n",
      "Processing Record 6 of Set 6 | nyurba\n",
      "Processing Record 7 of Set 6 | havoysund\n",
      "Processing Record 8 of Set 6 | hoquiam\n",
      "Processing Record 9 of Set 6 | tuktoyaktuk\n",
      "Processing Record 10 of Set 6 | choya\n",
      "Processing Record 11 of Set 6 | faanui\n",
      "Processing Record 12 of Set 6 | iquitos\n",
      "Processing Record 13 of Set 6 | palu\n",
      "Processing Record 14 of Set 6 | grand river south east\n",
      "city_not_found\n",
      "Processing Record 15 of Set 6 | fukue\n",
      "Processing Record 16 of Set 6 | hualmay\n",
      "Processing Record 17 of Set 6 | natal\n",
      "Processing Record 18 of Set 6 | souillac\n",
      "Processing Record 19 of Set 6 | urumqi\n",
      "Processing Record 20 of Set 6 | yurecuaro\n",
      "Processing Record 21 of Set 6 | vanavara\n",
      "Processing Record 22 of Set 6 | lodwar\n",
      "Processing Record 23 of Set 6 | kavieng\n",
      "Processing Record 24 of Set 6 | vaasa\n",
      "Processing Record 25 of Set 6 | grindavik\n",
      "Processing Record 26 of Set 6 | faya\n",
      "Processing Record 27 of Set 6 | chapleau\n",
      "Processing Record 28 of Set 6 | auki\n",
      "Processing Record 29 of Set 6 | kaabong\n",
      "Processing Record 30 of Set 6 | cururupu\n",
      "Processing Record 31 of Set 6 | zavodskoy\n",
      "Processing Record 32 of Set 6 | iwaki\n",
      "Processing Record 33 of Set 6 | sorland\n",
      "Processing Record 34 of Set 6 | charters towers\n",
      "Processing Record 35 of Set 6 | aanekoski\n",
      "Processing Record 36 of Set 6 | bengkulu\n",
      "Processing Record 37 of Set 6 | huicungo\n",
      "Processing Record 38 of Set 6 | sola\n",
      "Processing Record 39 of Set 6 | los llanos de aridane\n",
      "Processing Record 40 of Set 6 | kaspiysk\n",
      "Processing Record 41 of Set 6 | san andres\n",
      "Processing Record 42 of Set 6 | palmer\n",
      "Processing Record 43 of Set 6 | hofn\n",
      "Processing Record 44 of Set 6 | plettenberg bay\n",
      "Processing Record 45 of Set 6 | uyuni\n",
      "Processing Record 46 of Set 6 | ancud\n",
      "Processing Record 47 of Set 6 | anadyr\n",
      "Processing Record 48 of Set 6 | tanout\n",
      "Processing Record 49 of Set 6 | yuancheng\n",
      "Processing Record 0 of Set 7 | pag\n",
      "Processing Record 1 of Set 7 | pangai\n",
      "Processing Record 2 of Set 7 | san cristobal\n",
      "Processing Record 3 of Set 7 | mopipi\n",
      "Processing Record 4 of Set 7 | rocha\n",
      "Processing Record 5 of Set 7 | mayo\n",
      "Processing Record 6 of Set 7 | saint-joseph\n",
      "Processing Record 7 of Set 7 | robertsport\n",
      "Processing Record 8 of Set 7 | brunswick\n",
      "Processing Record 9 of Set 7 | rio gallegos\n",
      "Processing Record 10 of Set 7 | sinazongwe\n",
      "Processing Record 11 of Set 7 | bilma\n",
      "Processing Record 12 of Set 7 | ayr\n",
      "Processing Record 13 of Set 7 | kouroussa\n",
      "Processing Record 14 of Set 7 | george town\n",
      "Processing Record 15 of Set 7 | zhanaozen\n",
      "Processing Record 16 of Set 7 | lagoa\n",
      "Processing Record 17 of Set 7 | kandara\n",
      "Processing Record 18 of Set 7 | sibolga\n",
      "Processing Record 19 of Set 7 | sur\n",
      "Processing Record 20 of Set 7 | arman\n",
      "Processing Record 21 of Set 7 | fort nelson\n",
      "Processing Record 22 of Set 7 | mys shmidta\n",
      "city_not_found\n",
      "Processing Record 23 of Set 7 | sadiqabad\n",
      "Processing Record 24 of Set 7 | pitimbu\n",
      "Processing Record 25 of Set 7 | wagar\n",
      "Processing Record 26 of Set 7 | longlac\n",
      "city_not_found\n",
      "Processing Record 27 of Set 7 | suez\n",
      "Processing Record 28 of Set 7 | alexandria\n",
      "Processing Record 29 of Set 7 | san patricio\n",
      "Processing Record 30 of Set 7 | kenai\n",
      "Processing Record 31 of Set 7 | manggar\n",
      "Processing Record 32 of Set 7 | baijiantan\n",
      "Processing Record 33 of Set 7 | dolbeau\n",
      "city_not_found\n",
      "Processing Record 34 of Set 7 | williston\n",
      "Processing Record 35 of Set 7 | ilampillai\n",
      "Processing Record 36 of Set 7 | kieta\n",
      "Processing Record 37 of Set 7 | verkh-usugli\n",
      "Processing Record 38 of Set 7 | longonjo\n",
      "Processing Record 39 of Set 7 | vardo\n",
      "Processing Record 40 of Set 7 | lebu\n",
      "Processing Record 41 of Set 7 | karasjok\n",
      "Processing Record 42 of Set 7 | sovetskiy\n",
      "Processing Record 43 of Set 7 | umba\n",
      "Processing Record 44 of Set 7 | elizabethtown\n",
      "Processing Record 45 of Set 7 | marcona\n",
      "city_not_found\n",
      "Processing Record 46 of Set 7 | cayenne\n",
      "Processing Record 47 of Set 7 | corinto\n",
      "Processing Record 48 of Set 7 | salalah\n",
      "Processing Record 49 of Set 7 | maniitsoq\n",
      "Processing Record 0 of Set 8 | talara\n",
      "Processing Record 1 of Set 8 | ofunato\n",
      "Processing Record 2 of Set 8 | vila\n",
      "Processing Record 3 of Set 8 | waingapu\n",
      "Processing Record 4 of Set 8 | mutare\n",
      "Processing Record 5 of Set 8 | linfen\n",
      "Processing Record 6 of Set 8 | saint anthony\n",
      "Processing Record 7 of Set 8 | khani\n",
      "Processing Record 8 of Set 8 | dourbali\n",
      "Processing Record 9 of Set 8 | lingao\n",
      "Processing Record 10 of Set 8 | leglise\n",
      "Processing Record 11 of Set 8 | lima\n",
      "Processing Record 12 of Set 8 | peniche\n",
      "Processing Record 13 of Set 8 | kiama\n",
      "Processing Record 14 of Set 8 | dingli\n",
      "Processing Record 15 of Set 8 | harper\n",
      "Processing Record 16 of Set 8 | chany\n",
      "Processing Record 17 of Set 8 | pangnirtung\n",
      "Processing Record 18 of Set 8 | jingdezhen\n",
      "Processing Record 19 of Set 8 | kamaishi\n",
      "Processing Record 20 of Set 8 | mukhen\n",
      "Processing Record 21 of Set 8 | tongchuan\n",
      "Processing Record 22 of Set 8 | mar del plata\n",
      "Processing Record 23 of Set 8 | alotau\n",
      "city_not_found\n",
      "Processing Record 24 of Set 8 | kaitangata\n",
      "Processing Record 25 of Set 8 | yar-sale\n",
      "Processing Record 26 of Set 8 | touros\n",
      "Processing Record 27 of Set 8 | san vicente\n",
      "Processing Record 28 of Set 8 | mwinilunga\n",
      "Processing Record 29 of Set 8 | millinocket\n",
      "Processing Record 30 of Set 8 | nemuro\n",
      "Processing Record 31 of Set 8 | rach gia\n",
      "Processing Record 32 of Set 8 | bambanglipuro\n",
      "Processing Record 33 of Set 8 | bolungarvik\n",
      "city_not_found\n",
      "Processing Record 34 of Set 8 | coquimbo\n",
      "Processing Record 35 of Set 8 | manokwari\n",
      "Processing Record 36 of Set 8 | avera\n",
      "Processing Record 37 of Set 8 | mubi\n",
      "Processing Record 38 of Set 8 | prince rupert\n",
      "Processing Record 39 of Set 8 | qinzhou\n"
     ]
    },
    {
     "name": "stdout",
     "output_type": "stream",
     "text": [
      "Processing Record 40 of Set 8 | mersing\n",
      "Processing Record 41 of Set 8 | nizwa\n",
      "Processing Record 42 of Set 8 | thunder bay\n",
      "Processing Record 43 of Set 8 | kerouane\n",
      "Processing Record 44 of Set 8 | mandalgovi\n",
      "Processing Record 45 of Set 8 | yanan\n",
      "city_not_found\n",
      "Processing Record 46 of Set 8 | praia\n",
      "Processing Record 47 of Set 8 | labuhan\n",
      "Processing Record 48 of Set 8 | aksarka\n",
      "Processing Record 49 of Set 8 | bongaree\n",
      "Processing Record 0 of Set 9 | inhambane\n",
      "Processing Record 1 of Set 9 | chiredzi\n",
      "Processing Record 2 of Set 9 | terra santa\n",
      "Processing Record 3 of Set 9 | inyonga\n",
      "Processing Record 4 of Set 9 | shanting\n",
      "Processing Record 5 of Set 9 | casablanca\n",
      "Processing Record 6 of Set 9 | bauchi\n",
      "Processing Record 7 of Set 9 | nome\n",
      "Processing Record 8 of Set 9 | rawson\n",
      "Processing Record 9 of Set 9 | rancho palos verdes\n",
      "Processing Record 10 of Set 9 | jacksonville\n",
      "Processing Record 11 of Set 9 | banjar\n",
      "Processing Record 12 of Set 9 | prado\n",
      "Processing Record 13 of Set 9 | harrison\n",
      "Processing Record 14 of Set 9 | garowe\n",
      "Processing Record 15 of Set 9 | takefu\n",
      "Processing Record 16 of Set 9 | aklavik\n",
      "Processing Record 17 of Set 9 | hokitika\n",
      "Processing Record 18 of Set 9 | grand island\n",
      "Processing Record 19 of Set 9 | tazovskiy\n",
      "Processing Record 20 of Set 9 | asmar\n",
      "Processing Record 21 of Set 9 | lata\n",
      "Processing Record 22 of Set 9 | hasaki\n",
      "Processing Record 23 of Set 9 | muros\n",
      "Processing Record 24 of Set 9 | korla\n",
      "Processing Record 25 of Set 9 | bojonegoro\n",
      "Processing Record 26 of Set 9 | horsham\n",
      "Processing Record 27 of Set 9 | viransehir\n",
      "Processing Record 28 of Set 9 | yellowknife\n",
      "Processing Record 29 of Set 9 | kemijarvi\n",
      "Processing Record 30 of Set 9 | miandoab\n",
      "Processing Record 31 of Set 9 | roald\n",
      "Processing Record 32 of Set 9 | tahta\n",
      "Processing Record 33 of Set 9 | namibe\n",
      "Processing Record 34 of Set 9 | petrolina de goias\n",
      "Processing Record 35 of Set 9 | porosozero\n",
      "Processing Record 36 of Set 9 | resistencia\n",
      "Processing Record 37 of Set 9 | adrar\n",
      "Processing Record 38 of Set 9 | pop\n",
      "Processing Record 39 of Set 9 | bishna\n",
      "city_not_found\n",
      "Processing Record 40 of Set 9 | meulaboh\n",
      "Processing Record 41 of Set 9 | sol-iletsk\n",
      "Processing Record 42 of Set 9 | samarai\n",
      "Processing Record 43 of Set 9 | honolulu\n",
      "Processing Record 44 of Set 9 | jibuti\n",
      "Processing Record 45 of Set 9 | skjervoy\n",
      "Processing Record 46 of Set 9 | christchurch\n",
      "Processing Record 47 of Set 9 | eirunepe\n",
      "Processing Record 48 of Set 9 | port hardy\n",
      "Processing Record 49 of Set 9 | chumikan\n",
      "Processing Record 0 of Set 10 | keetmanshoop\n",
      "Processing Record 1 of Set 10 | churapcha\n",
      "Processing Record 2 of Set 10 | zomin\n",
      "Processing Record 3 of Set 10 | kirn\n",
      "Processing Record 4 of Set 10 | lovozero\n",
      "Processing Record 5 of Set 10 | mason city\n",
      "Processing Record 6 of Set 10 | shimoda\n",
      "Processing Record 7 of Set 10 | whittlesea\n",
      "Processing Record 8 of Set 10 | ishigaki\n",
      "Processing Record 9 of Set 10 | akdepe\n",
      "Processing Record 10 of Set 10 | tutoia\n",
      "Processing Record 11 of Set 10 | la cruz\n",
      "Processing Record 12 of Set 10 | stillwater\n",
      "Processing Record 13 of Set 10 | cabinda\n",
      "Processing Record 14 of Set 10 | sibu\n",
      "Processing Record 15 of Set 10 | bossier city\n",
      "Processing Record 16 of Set 10 | ayios kirikos\n",
      "city_not_found\n",
      "Processing Record 17 of Set 10 | vestmannaeyjar\n",
      "Processing Record 18 of Set 10 | araguatins\n",
      "city_not_found\n",
      "Processing Record 19 of Set 10 | grand gaube\n",
      "Processing Record 20 of Set 10 | bandar-e lengeh\n",
      "Processing Record 21 of Set 10 | marystown\n",
      "Processing Record 22 of Set 10 | khasan\n",
      "Processing Record 23 of Set 10 | kemin\n",
      "Processing Record 24 of Set 10 | kanye\n",
      "Processing Record 25 of Set 10 | pasighat\n",
      "Processing Record 26 of Set 10 | boguchany\n",
      "Processing Record 27 of Set 10 | wajima\n",
      "Processing Record 28 of Set 10 | ola\n",
      "Processing Record 29 of Set 10 | aswan\n",
      "Processing Record 30 of Set 10 | mattru\n",
      "Processing Record 31 of Set 10 | tura\n",
      "Processing Record 32 of Set 10 | celestun\n",
      "Processing Record 33 of Set 10 | datong\n",
      "Processing Record 34 of Set 10 | portland\n",
      "Processing Record 35 of Set 10 | qandala\n",
      "Processing Record 36 of Set 10 | koshurnikovo\n",
      "Processing Record 37 of Set 10 | ozgon\n",
      "city_not_found\n",
      "Processing Record 38 of Set 10 | port lincoln\n",
      "Processing Record 39 of Set 10 | xuanwu\n",
      "Processing Record 40 of Set 10 | kyren\n",
      "Processing Record 41 of Set 10 | rebrikha\n",
      "Processing Record 42 of Set 10 | waipawa\n",
      "Processing Record 43 of Set 10 | west helena\n",
      "Processing Record 44 of Set 10 | ulaanbaatar\n",
      "Processing Record 45 of Set 10 | csolnok\n",
      "Processing Record 46 of Set 10 | suamico\n",
      "Processing Record 47 of Set 10 | siwan\n",
      "Processing Record 48 of Set 10 | catuday\n",
      "Processing Record 49 of Set 10 | kailua\n",
      "Processing Record 0 of Set 11 | cairns\n",
      "Processing Record 1 of Set 11 | tsuruoka\n",
      "Processing Record 2 of Set 11 | puerto escondido\n",
      "Processing Record 3 of Set 11 | comodoro rivadavia\n",
      "Processing Record 4 of Set 11 | storozhevaya\n",
      "Processing Record 5 of Set 11 | belozerskoye\n",
      "Processing Record 6 of Set 11 | tonantins\n",
      "Processing Record 7 of Set 11 | goderich\n",
      "Processing Record 8 of Set 11 | winnemucca\n",
      "Processing Record 9 of Set 11 | itoman\n",
      "Processing Record 10 of Set 11 | spornoye\n",
      "Processing Record 11 of Set 11 | harbour breton\n",
      "Processing Record 12 of Set 11 | reggello\n",
      "Processing Record 13 of Set 11 | port-cartier\n",
      "Processing Record 14 of Set 11 | araxa\n",
      "Processing Record 15 of Set 11 | broome\n",
      "Processing Record 16 of Set 11 | dunedin\n",
      "Processing Record 17 of Set 11 | englehart\n",
      "Processing Record 18 of Set 11 | alice springs\n",
      "Processing Record 19 of Set 11 | qingyuan\n",
      "Processing Record 20 of Set 11 | sangin\n",
      "Processing Record 21 of Set 11 | raga\n",
      "Processing Record 22 of Set 11 | jiazi\n",
      "Processing Record 23 of Set 11 | searcy\n",
      "Processing Record 24 of Set 11 | yining\n",
      "Processing Record 25 of Set 11 | dubova\n",
      "Processing Record 26 of Set 11 | eyl\n",
      "Processing Record 27 of Set 11 | tiarei\n",
      "Processing Record 28 of Set 11 | te anau\n",
      "Processing Record 29 of Set 11 | villacarrillo\n",
      "Processing Record 30 of Set 11 | chernyshevskiy\n",
      "Processing Record 31 of Set 11 | yugorsk\n",
      "Processing Record 32 of Set 11 | krasnoselkup\n",
      "Processing Record 33 of Set 11 | bitam\n",
      "Processing Record 34 of Set 11 | hakui\n",
      "Processing Record 35 of Set 11 | pastos bons\n",
      "Processing Record 36 of Set 11 | felidhoo\n",
      "city_not_found\n",
      "Processing Record 37 of Set 11 | college\n",
      "Processing Record 38 of Set 11 | bellevue\n",
      "Processing Record 39 of Set 11 | cap-aux-meules\n",
      "Processing Record 40 of Set 11 | kugesi\n",
      "Processing Record 41 of Set 11 | laguna\n",
      "Processing Record 42 of Set 11 | cockburn town\n",
      "Processing Record 43 of Set 11 | batagay-alyta\n",
      "Processing Record 44 of Set 11 | buala\n",
      "Processing Record 45 of Set 11 | shenjiamen\n",
      "Processing Record 46 of Set 11 | wulanhaote\n",
      "city_not_found\n",
      "Processing Record 47 of Set 11 | hit\n",
      "Processing Record 48 of Set 11 | ugoofaaru\n",
      "Processing Record 49 of Set 11 | nabire\n",
      "Processing Record 0 of Set 12 | murgab\n",
      "Processing Record 1 of Set 12 | araouane\n",
      "Processing Record 2 of Set 12 | solsvik\n",
      "city_not_found\n",
      "Processing Record 3 of Set 12 | leh\n",
      "Processing Record 4 of Set 12 | oxelosund\n",
      "Processing Record 5 of Set 12 | palana\n",
      "Processing Record 6 of Set 12 | mabaruma\n",
      "Processing Record 7 of Set 12 | colesberg\n",
      "Processing Record 8 of Set 12 | jutai\n",
      "Processing Record 9 of Set 12 | qasigiannguit\n",
      "Processing Record 10 of Set 12 | gerash\n",
      "Processing Record 11 of Set 12 | iskateley\n",
      "Processing Record 12 of Set 12 | kazalinsk\n",
      "city_not_found\n",
      "Processing Record 13 of Set 12 | sept-iles\n",
      "Processing Record 14 of Set 12 | lyuban\n",
      "Processing Record 15 of Set 12 | havre\n",
      "Processing Record 16 of Set 12 | la romana\n",
      "Processing Record 17 of Set 12 | svencionys\n",
      "Processing Record 18 of Set 12 | tolaga bay\n",
      "Processing Record 19 of Set 12 | broken hill\n",
      "Processing Record 20 of Set 12 | hanmer springs\n",
      "Processing Record 21 of Set 12 | makakilo city\n",
      "Processing Record 22 of Set 12 | barcelona\n",
      "Processing Record 23 of Set 12 | ngukurr\n",
      "city_not_found\n",
      "Processing Record 24 of Set 12 | baraki barak\n",
      "Processing Record 25 of Set 12 | opelousas\n",
      "Processing Record 26 of Set 12 | morondava\n",
      "Processing Record 27 of Set 12 | silleda\n",
      "Processing Record 28 of Set 12 | capaci\n",
      "Processing Record 29 of Set 12 | gazli\n",
      "Processing Record 30 of Set 12 | vagur\n",
      "Processing Record 31 of Set 12 | sorong\n",
      "Processing Record 32 of Set 12 | cravo norte\n",
      "Processing Record 33 of Set 12 | suntar\n",
      "Processing Record 34 of Set 12 | kibala\n"
     ]
    },
    {
     "name": "stdout",
     "output_type": "stream",
     "text": [
      "Processing Record 35 of Set 12 | hirara\n",
      "Processing Record 36 of Set 12 | surovikino\n",
      "Processing Record 37 of Set 12 | pandan\n",
      "Processing Record 38 of Set 12 | coahuayana\n",
      "Processing Record 39 of Set 12 | saleaula\n",
      "city_not_found\n",
      "Processing Record 40 of Set 12 | namatanai\n",
      "Processing Record 41 of Set 12 | mareeba\n",
      "Processing Record 42 of Set 12 | olafsvik\n",
      "Processing Record 43 of Set 12 | iranshahr\n",
      "Processing Record 44 of Set 12 | egvekinot\n",
      "Processing Record 45 of Set 12 | bibiani\n",
      "Processing Record 46 of Set 12 | koumra\n",
      "Processing Record 47 of Set 12 | omegna\n",
      "Processing Record 48 of Set 12 | pangody\n",
      "Processing Record 49 of Set 12 | dong hoi\n",
      "Processing Record 0 of Set 13 | scarborough\n",
      "Processing Record 1 of Set 13 | chippenham\n",
      "Processing Record 2 of Set 13 | walvis bay\n",
      "Processing Record 3 of Set 13 | sokur\n",
      "Processing Record 4 of Set 13 | coswig\n",
      "Processing Record 5 of Set 13 | at-bashi\n",
      "Processing Record 6 of Set 13 | urdzhar\n",
      "city_not_found\n",
      "Processing Record 7 of Set 13 | hakodate\n",
      "Processing Record 8 of Set 13 | matara\n",
      "Processing Record 9 of Set 13 | seaca de padure\n",
      "city_not_found\n",
      "Processing Record 10 of Set 13 | jaltenango\n",
      "Processing Record 11 of Set 13 | arica\n",
      "Processing Record 12 of Set 13 | seoul\n"
     ]
    }
   ],
   "source": [
    "url = \"http://api.openweathermap.org/data/2.5/weather?units=Imperial&APPID=\" + weather_api_key\n",
    "\n",
    "citylist = []\n",
    "recordcnt = 1\n",
    "setcnt = 1\n",
    "for i, city in enumerate (cities):\n",
    "    if (i % 50 == 0 and i >=50):\n",
    "        setcnt = setcnt + 1\n",
    "        recordcnt = 0\n",
    "    city_url = url + \"&q=\" + city \n",
    "    print(\"Processing Record %s of Set %s | %s\" % (recordcnt, setcnt, city))\n",
    "    recordcnt = recordcnt+1\n",
    "    try:\n",
    "        weather=requests.get(city_url).json()\n",
    "        lat = weather[\"coord\"][\"lat\"]\n",
    "        lng = weather[\"coord\"][\"lon\"]\n",
    "        max_temp = weather[\"main\"][\"temp_max\"]\n",
    "        humidity = weather[\"main\"][\"humidity\"]\n",
    "        clouds = weather[\"clouds\"][\"all\"]\n",
    "        wind = weather[\"wind\"][\"speed\"]\n",
    "        country = weather[\"sys\"][\"country\"]\n",
    "        date = weather[\"dt\"]\n",
    "        citylist.append({\n",
    "            \"City\":city,\n",
    "            \"Lat\":lat,\n",
    "            \"Lng\":lng,\n",
    "            \"Max_temp\":max_temp,\n",
    "            \"Humidity\":humidity,\n",
    "            \"Clouds\":clouds,\n",
    "            \"Wind\":wind,\n",
    "            \"Country\":country,\n",
    "            \"Date\":date    \n",
    "        })\n",
    "    except:\n",
    "        print(\"city_not_found\")\n",
    "        pass"
   ]
  },
  {
   "cell_type": "markdown",
   "metadata": {},
   "source": [
    "### Convert Raw Data to DataFrame\n",
    "* Export the city data into a .csv.\n",
    "* Display the DataFrame"
   ]
  },
  {
   "cell_type": "code",
   "execution_count": 40,
   "metadata": {},
   "outputs": [
    {
     "data": {
      "text/plain": [
       "City        562\n",
       "Lat         562\n",
       "Lng         562\n",
       "Max_temp    562\n",
       "Humidity    562\n",
       "Clouds      562\n",
       "Wind        562\n",
       "Country     562\n",
       "Date        562\n",
       "dtype: int64"
      ]
     },
     "execution_count": 40,
     "metadata": {},
     "output_type": "execute_result"
    }
   ],
   "source": [
    "city_df= pd.DataFrame(citylist)\n",
    "city_df.count()"
   ]
  },
  {
   "cell_type": "code",
   "execution_count": 61,
   "metadata": {},
   "outputs": [],
   "source": [
    "city_df.to_csv('weather_city_data.csv', index_label=\"City_ID\")\n",
    "#city_data_pd.to_csv(output_data_file, index_label=\"City_ID\")"
   ]
  },
  {
   "cell_type": "code",
   "execution_count": 43,
   "metadata": {},
   "outputs": [
    {
     "data": {
      "text/html": [
       "<div>\n",
       "<style scoped>\n",
       "    .dataframe tbody tr th:only-of-type {\n",
       "        vertical-align: middle;\n",
       "    }\n",
       "\n",
       "    .dataframe tbody tr th {\n",
       "        vertical-align: top;\n",
       "    }\n",
       "\n",
       "    .dataframe thead th {\n",
       "        text-align: right;\n",
       "    }\n",
       "</style>\n",
       "<table border=\"1\" class=\"dataframe\">\n",
       "  <thead>\n",
       "    <tr style=\"text-align: right;\">\n",
       "      <th></th>\n",
       "      <th>City</th>\n",
       "      <th>Lat</th>\n",
       "      <th>Lng</th>\n",
       "      <th>Max_temp</th>\n",
       "      <th>Humidity</th>\n",
       "      <th>Clouds</th>\n",
       "      <th>Wind</th>\n",
       "      <th>Country</th>\n",
       "      <th>Date</th>\n",
       "    </tr>\n",
       "  </thead>\n",
       "  <tbody>\n",
       "    <tr>\n",
       "      <td>0</td>\n",
       "      <td>kutum</td>\n",
       "      <td>14.20</td>\n",
       "      <td>24.67</td>\n",
       "      <td>91.76</td>\n",
       "      <td>18</td>\n",
       "      <td>97</td>\n",
       "      <td>8.72</td>\n",
       "      <td>SD</td>\n",
       "      <td>1593359456</td>\n",
       "    </tr>\n",
       "    <tr>\n",
       "      <td>1</td>\n",
       "      <td>alyangula</td>\n",
       "      <td>-13.85</td>\n",
       "      <td>136.42</td>\n",
       "      <td>66.20</td>\n",
       "      <td>93</td>\n",
       "      <td>87</td>\n",
       "      <td>9.91</td>\n",
       "      <td>AU</td>\n",
       "      <td>1593359456</td>\n",
       "    </tr>\n",
       "    <tr>\n",
       "      <td>2</td>\n",
       "      <td>fortuna</td>\n",
       "      <td>40.60</td>\n",
       "      <td>-124.16</td>\n",
       "      <td>57.00</td>\n",
       "      <td>87</td>\n",
       "      <td>90</td>\n",
       "      <td>12.75</td>\n",
       "      <td>US</td>\n",
       "      <td>1593359456</td>\n",
       "    </tr>\n",
       "    <tr>\n",
       "      <td>3</td>\n",
       "      <td>ushuaia</td>\n",
       "      <td>-54.80</td>\n",
       "      <td>-68.30</td>\n",
       "      <td>35.60</td>\n",
       "      <td>69</td>\n",
       "      <td>75</td>\n",
       "      <td>19.46</td>\n",
       "      <td>AR</td>\n",
       "      <td>1593359278</td>\n",
       "    </tr>\n",
       "    <tr>\n",
       "      <td>4</td>\n",
       "      <td>manuk mangkaw</td>\n",
       "      <td>4.80</td>\n",
       "      <td>119.85</td>\n",
       "      <td>80.13</td>\n",
       "      <td>80</td>\n",
       "      <td>100</td>\n",
       "      <td>5.03</td>\n",
       "      <td>PH</td>\n",
       "      <td>1593359456</td>\n",
       "    </tr>\n",
       "  </tbody>\n",
       "</table>\n",
       "</div>"
      ],
      "text/plain": [
       "            City    Lat     Lng  Max_temp  Humidity  Clouds   Wind Country  \\\n",
       "0          kutum  14.20   24.67     91.76        18      97   8.72      SD   \n",
       "1      alyangula -13.85  136.42     66.20        93      87   9.91      AU   \n",
       "2        fortuna  40.60 -124.16     57.00        87      90  12.75      US   \n",
       "3        ushuaia -54.80  -68.30     35.60        69      75  19.46      AR   \n",
       "4  manuk mangkaw   4.80  119.85     80.13        80     100   5.03      PH   \n",
       "\n",
       "         Date  \n",
       "0  1593359456  \n",
       "1  1593359456  \n",
       "2  1593359456  \n",
       "3  1593359278  \n",
       "4  1593359456  "
      ]
     },
     "execution_count": 43,
     "metadata": {},
     "output_type": "execute_result"
    }
   ],
   "source": [
    "city_df.head(5)"
   ]
  },
  {
   "cell_type": "markdown",
   "metadata": {},
   "source": [
    "### Plotting the Data\n",
    "* Use proper labeling of the plots using plot titles (including date of analysis) and axes labels.\n",
    "* Save the plotted figures as .pngs."
   ]
  },
  {
   "cell_type": "markdown",
   "metadata": {},
   "source": [
    "#### Latitude vs. Temperature Plot"
   ]
  },
  {
   "cell_type": "code",
   "execution_count": 14,
   "metadata": {
    "scrolled": true
   },
   "outputs": [
    {
     "data": {
      "image/png": "[encoded data removed]",
      "text/plain": [
       "<Figure size 432x288 with 1 Axes>"
      ]
     },
     "metadata": {
      "needs_background": "light"
     },
     "output_type": "display_data"
    }
   ],
   "source": [
    "plt.scatter(city_df[\"Lat\"],city_df[\"Max_temp\"],edgecolor=\"black\", c=\"lightblue\")\n",
    "plt.title(\"Latitude vs. Temperature Plot (%s)\" % time.strftime(\"%x\"))\n",
    "plt.ylabel(\"Tempeature\")\n",
    "plt.xlabel(\"Latitude\")\n",
    "plt.grid(True)"
   ]
  },
  {
   "cell_type": "markdown",
   "metadata": {},
   "source": [
    "#### Latitude vs. Humidity Plot"
   ]
  },
  {
   "cell_type": "code",
   "execution_count": 16,
   "metadata": {},
   "outputs": [
    {
     "data": {
      "image/png": "[encoded data removed]",
      "text/plain": [
       "<Figure size 432x288 with 1 Axes>"
      ]
     },
     "metadata": {
      "needs_background": "light"
     },
     "output_type": "display_data"
    }
   ],
   "source": [
    "plt.scatter(city_df[\"Lat\"],city_df[\"Humidity\"],edgecolor=\"black\",c=\"lightblue\")\n",
    "plt.title(\"Latitude vs. Humidity (%s)\" % time.strftime(\"%x\"))\n",
    "plt.ylabel(\"Humidity\")\n",
    "plt.xlabel(\"Latitude\")\n",
    "plt.grid(True)"
   ]
  },
  {
   "cell_type": "markdown",
   "metadata": {},
   "source": [
    "#### Latitude vs. Cloudiness Plot"
   ]
  },
  {
   "cell_type": "code",
   "execution_count": 19,
   "metadata": {},
   "outputs": [
    {
     "data": {
      "image/png": "[encoded data removed]",
      "text/plain": [
       "<Figure size 432x288 with 1 Axes>"
      ]
     },
     "metadata": {
      "needs_background": "light"
     },
     "output_type": "display_data"
    }
   ],
   "source": [
    "plt.scatter(city_df[\"Lat\"],city_df[\"Clouds\"],edgecolor=\"black\",c=\"lightblue\")\n",
    "plt.title(\"Latitude vs. Clouds (%s)\" % time.strftime(\"%x\"))\n",
    "plt.ylabel(\"Clouds\")\n",
    "plt.xlabel(\"Latitude\")\n",
    "plt.grid(True)"
   ]
  },
  {
   "cell_type": "markdown",
   "metadata": {},
   "source": [
    "#### Latitude vs. Wind Speed Plot"
   ]
  },
  {
   "cell_type": "code",
   "execution_count": 18,
   "metadata": {},
   "outputs": [
    {
     "data": {
      "image/png": "[encoded data removed]",
      "text/plain": [
       "<Figure size 432x288 with 1 Axes>"
      ]
     },
     "metadata": {
      "needs_background": "light"
     },
     "output_type": "display_data"
    }
   ],
   "source": [
    "plt.scatter(city_df[\"Lat\"],city_df[\"Wind\"],edgecolor=\"black\",c=\"lightblue\")\n",
    "plt.title(\"Latitude vs. Wind (%s)\" % time.strftime(\"%x\"))\n",
    "plt.ylabel(\"Wind\")\n",
    "plt.xlabel(\"Latitude\")\n",
    "plt.grid(True)"
   ]
  },
  {
   "cell_type": "code",
   "execution_count": 26,
   "metadata": {},
   "outputs": [],
   "source": [
    "#from scipy.stats import linregress"
   ]
  },
  {
   "cell_type": "markdown",
   "metadata": {},
   "source": [
    "## Linear Regression"
   ]
  },
  {
   "cell_type": "code",
   "execution_count": 28,
   "metadata": {},
   "outputs": [],
   "source": [
    "# OPTIONAL: Create a function to create Linear Regression plots\n",
    "def plot_linear_regression(x_values, y_values, title, text_coordinates):\n",
    "    (slope, intercept, rvalue, pvalue, stderr) = linregress(x_values, y_values)\n",
    "    regress_values = x_values * slope + intercept\n",
    "    line_eq = \"y = \" + str(round(slope,2)) + \"x + \" + str(round(intercept,2))\n",
    "\n",
    "    # Plot\n",
    "    plt.scatter(x_values,y_values)\n",
    "    plt.plot(x_values,regress_values,\"r-\")\n",
    "    plt.annotate(line_eq,text_coordinates,fontsize=15,color=\"red\")\n",
    "    plt.xlabel('Latitude')\n",
    "    plt.ylabel(title)\n",
    "    print(f\"The r-squared is: {rvalue}\")\n",
    "    plt.show()"
   ]
  },
  {
   "cell_type": "code",
   "execution_count": 35,
   "metadata": {},
   "outputs": [],
   "source": [
    "# Create Northern and Southern Hemisphere DataFrames\n",
    "northern_hemi_df = city_df.loc[(city_df[\"Lat\"] >= 0)]\n",
    "southern_hemi_df = city_df.loc[(city_df[\"Lat\"] < 0)]\n"
   ]
  },
  {
   "cell_type": "markdown",
   "metadata": {},
   "source": [
    "####  Northern Hemisphere - Max Temp vs. Latitude Linear Regression"
   ]
  },
  {
   "cell_type": "code",
   "execution_count": 37,
   "metadata": {},
   "outputs": [
    {
     "name": "stdout",
     "output_type": "stream",
     "text": [
      "The r-squared is: -0.7325931030652063\n"
     ]
    },
    {
     "data": {
      "image/png": "[encoded data removed]",
      "text/plain": [
       "<Figure size 432x288 with 1 Axes>"
      ]
     },
     "metadata": {
      "needs_background": "light"
     },
     "output_type": "display_data"
    }
   ],
   "source": [
    "x_values = northern_hemi_df[\"Lat\"]\n",
    "y_values = northern_hemi_df[\"Max_temp\"]\n",
    "plot_linear_regression(x_values, y_values, 'Max_temp',(6,30))"
   ]
  },
  {
   "cell_type": "markdown",
   "metadata": {},
   "source": [
    "####  Southern Hemisphere - Max Temp vs. Latitude Linear Regression"
   ]
  },
  {
   "cell_type": "code",
   "execution_count": null,
   "metadata": {},
   "outputs": [],
   "source": []
  },
  {
   "cell_type": "markdown",
   "metadata": {},
   "source": [
    "####  Northern Hemisphere - Humidity (%) vs. Latitude Linear Regression"
   ]
  },
  {
   "cell_type": "code",
   "execution_count": null,
   "metadata": {},
   "outputs": [],
   "source": []
  },
  {
   "cell_type": "markdown",
   "metadata": {},
   "source": [
    "####  Southern Hemisphere - Humidity (%) vs. Latitude Linear Regression"
   ]
  },
  {
   "cell_type": "code",
   "execution_count": null,
   "metadata": {},
   "outputs": [],
   "source": []
  },
  {
   "cell_type": "markdown",
   "metadata": {},
   "source": [
    "####  Northern Hemisphere - Cloudiness (%) vs. Latitude Linear Regression"
   ]
  },
  {
   "cell_type": "code",
   "execution_count": null,
   "metadata": {},
   "outputs": [],
   "source": []
  },
  {
   "cell_type": "markdown",
   "metadata": {},
   "source": [
    "####  Southern Hemisphere - Cloudiness (%) vs. Latitude Linear Regression"
   ]
  },
  {
   "cell_type": "code",
   "execution_count": null,
   "metadata": {},
   "outputs": [],
   "source": []
  },
  {
   "cell_type": "markdown",
   "metadata": {},
   "source": [
    "####  Northern Hemisphere - Wind Speed (mph) vs. Latitude Linear Regression"
   ]
  },
  {
   "cell_type": "code",
   "execution_count": null,
   "metadata": {},
   "outputs": [],
   "source": []
  },
  {
   "cell_type": "markdown",
   "metadata": {},
   "source": [
    "####  Southern Hemisphere - Wind Speed (mph) vs. Latitude Linear Regression"
   ]
  },
  {
   "cell_type": "code",
   "execution_count": null,
   "metadata": {},
   "outputs": [],
   "source": []
  },
  {
   "cell_type": "code",
   "execution_count": null,
   "metadata": {},
   "outputs": [],
   "source": []
  }
 ],
 "metadata": {
  "anaconda-cloud": {},
  "kernel_info": {
   "name": "python3"
  },
  "kernelspec": {
   "display_name": "Python 3",
   "language": "python",
   "name": "python3"
  },
  "language_info": {
   "codemirror_mode": {
    "name": "ipython",
    "version": 3
   },
   "file_extension": ".py",
   "mimetype": "text/x-python",
   "name": "python",
   "nbconvert_exporter": "python",
   "pygments_lexer": "ipython3",
   "version": "3.7.4"
  },
  "latex_envs": {
   "LaTeX_envs_menu_present": true,
   "autoclose": false,
   "autocomplete": true,
   "bibliofile": "biblio.bib",
   "cite_by": "apalike",
   "current_citInitial": 1,
   "eqLabelWithNumbers": true,
   "eqNumInitial": 1,
   "hotkeys": {
    "equation": "Ctrl-E",
    "itemize": "Ctrl-I"
   },
   "labels_anchors": false,
   "latex_user_defs": false,
   "report_style_numbering": false,
   "user_envs_cfg": false
  },
  "nteract": {
   "version": "0.12.3"
  }
 },
 "nbformat": 4,
 "nbformat_minor": 2
}
